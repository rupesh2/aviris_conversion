{
 "cells": [
  {
   "cell_type": "markdown",
   "id": "81be93e4",
   "metadata": {},
   "source": [
    "# Introduction\n",
    "\n",
    "NASA's [AVIRIS-NG](https://avirisng.jpl.nasa.gov) comes as ENVI image format, which might not be amenable to some software and the cloud. This tutorial demonstrates simple conversions to various formats such as [GeoTIFFs](https://www.ogc.org/standards/geotiff), [CoGs](https://www.cogeo.org/), [netCDF](https://www.unidata.ucar.edu/software/netcdf/conventions.html), and [zarr](https://zarr.readthedocs.io/en/stable/).\n",
    "\n",
    "## Sample file\n",
    "We will use one Level 2 reflectance file `ang20170706t180635_corr_v2p9_img`, which can be downloaded from [this portal](https://avirisng.jpl.nasa.gov/dataportal/). The `corr` in the file name means that this is a orthocorrected, scaled reflectance image file. The `v2p9` is a version marker. For more information about the file name, read the [filenaming convention](https://avirisng.jpl.nasa.gov/dataportal/ANG_L1B_L2_Data_Product_Readme_v02.txt).\n",
    "\n",
    "## Converting to netCDF"
   ]
  },
  {
   "cell_type": "code",
   "execution_count": null,
   "id": "dfc907c1",
   "metadata": {},
   "outputs": [],
   "source": [
    "import rioxarray\n",
    "avirisng_f = 'ang20170706t180635_corr_v2p9_img'\n",
    "avirisng = rioxarray.open_rasterio(avirisng_f, driver='ENVI', parse_coordinates=True)\n",
    "avirisng.attrs['long_name'] = 'orthocorrected scaled reflectance'"
   ]
  },
  {
   "cell_type": "markdown",
   "id": "9dc9373a",
   "metadata": {},
   "source": [
    "Now, the `avirisng` variables contains all bands and attribute information as xarray. "
   ]
  },
  {
   "cell_type": "markdown",
   "id": "5088001e",
   "metadata": {},
   "source": [
    "We will add a longitude and latitude coordinates as well."
   ]
  },
  {
   "cell_type": "code",
   "execution_count": null,
   "id": "f667063c",
   "metadata": {},
   "outputs": [],
   "source": [
    "from pyproj import Transformer\n",
    "import xarray as xr\n",
    "\n",
    "transformer = Transformer.from_crs(avirisng.rio.crs, \"epsg:4326\", always_xy=True) \n",
    "lon1, lat1 = transformer.transform(avirisng.xc, avirisng.yc)\n",
    "avirisng = avirisng.assign_coords(lon=xr.DataArray(lon1, dims=avirisng.xc.dims))\n",
    "avirisng = avirisng.assign_coords(lat=xr.DataArray(lat1, dims=avirisng.yc.dims))"
   ]
  },
  {
   "cell_type": "markdown",
   "id": "fc0365fb",
   "metadata": {},
   "source": [
    "We will first give a name (\"corr\") to the dataarray and then convert to a netCDF4 file."
   ]
  },
  {
   "cell_type": "code",
   "execution_count": null,
   "id": "243b1ff2",
   "metadata": {},
   "outputs": [],
   "source": [
    "avirsng_ds=avirisng.to_dataset(name='corr')"
   ]
  },
  {
   "cell_type": "code",
   "execution_count": null,
   "id": "a135d5d8",
   "metadata": {},
   "outputs": [],
   "source": [
    "avirsng_ds.to_netcdf(avirisng_f + '.nc')"
   ]
  }
 ],
 "metadata": {
  "kernelspec": {
   "display_name": "Python 3 (ipykernel)",
   "language": "python",
   "name": "python3"
  },
  "language_info": {
   "codemirror_mode": {
    "name": "ipython",
    "version": 3
   },
   "file_extension": ".py",
   "mimetype": "text/x-python",
   "name": "python",
   "nbconvert_exporter": "python",
   "pygments_lexer": "ipython3",
   "version": "3.9.9"
  }
 },
 "nbformat": 4,
 "nbformat_minor": 5
}
